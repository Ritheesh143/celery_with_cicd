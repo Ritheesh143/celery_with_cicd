{
 "cells": [
  {
   "cell_type": "code",
   "execution_count": null,
   "id": "c0368453",
   "metadata": {},
   "outputs": [],
   "source": [
    "import pickle\n",
    "import redis\n",
    "import json"
   ]
  },
  {
   "cell_type": "code",
   "execution_count": null,
   "id": "040f607c",
   "metadata": {},
   "outputs": [],
   "source": [
    "\n",
    "\n",
    "r = redis.Redis(host='localhost',port=6379)"
   ]
  },
  {
   "cell_type": "code",
   "execution_count": null,
   "id": "de6f8951",
   "metadata": {
    "scrolled": true
   },
   "outputs": [],
   "source": [
    "for key in r.scan_iter():\n",
    "    print(key)\n",
    "    r.delete(key)\n",
    "    "
   ]
  },
  {
   "cell_type": "code",
   "execution_count": null,
   "id": "7305c8bd",
   "metadata": {},
   "outputs": [],
   "source": [
    "r.get(b'celery-task-meta-3a4a26a5-537d-4531-9941-5e23859b7629')"
   ]
  },
  {
   "cell_type": "code",
   "execution_count": null,
   "id": "83dcfff7",
   "metadata": {},
   "outputs": [],
   "source": [
    "def dummy():\n",
    "    print(\"dummy\")\n",
    "    return \"dummy\"\n",
    "\n",
    "\n",
    "a = {\"a\":\"dummy\",\"b\":1}\n",
    "\n",
    "json.dumps(a)"
   ]
  },
  {
   "cell_type": "code",
   "execution_count": null,
   "id": "6af8c2cf",
   "metadata": {},
   "outputs": [],
   "source": [
    "r.set('function',json.dumps(a))"
   ]
  },
  {
   "cell_type": "code",
   "execution_count": null,
   "id": "5731bd93",
   "metadata": {},
   "outputs": [],
   "source": []
  },
  {
   "cell_type": "code",
   "execution_count": null,
   "id": "72753a9e",
   "metadata": {},
   "outputs": [],
   "source": [
    "json.loads(r.get(\"function\").decode())"
   ]
  },
  {
   "cell_type": "code",
   "execution_count": null,
   "id": "37474e94",
   "metadata": {},
   "outputs": [],
   "source": [
    "bytes(dummy)"
   ]
  },
  {
   "cell_type": "code",
   "execution_count": null,
   "id": "87dc6119",
   "metadata": {},
   "outputs": [],
   "source": [
    "\n",
    "class cls:\n",
    "    def __init__(self,a):\n",
    "        self.a = a\n",
    "\n",
    "    def get(self):\n",
    "        return self.a\n",
    "    \n",
    "inst = cls('ritheesh')"
   ]
  },
  {
   "cell_type": "code",
   "execution_count": null,
   "id": "792dc5f7",
   "metadata": {},
   "outputs": [],
   "source": [
    "byt = pickle.dumps(inst)"
   ]
  },
  {
   "cell_type": "code",
   "execution_count": null,
   "id": "4e799a1f",
   "metadata": {},
   "outputs": [],
   "source": [
    "pickle.loads(byt).get()"
   ]
  },
  {
   "cell_type": "code",
   "execution_count": null,
   "id": "1da376b7",
   "metadata": {},
   "outputs": [],
   "source": [
    "bytearray(inst)"
   ]
  },
  {
   "cell_type": "code",
   "execution_count": 1,
   "id": "72531c82",
   "metadata": {},
   "outputs": [],
   "source": [
    "from tasks import welcome"
   ]
  },
  {
   "cell_type": "code",
   "execution_count": null,
   "id": "28af9395",
   "metadata": {},
   "outputs": [],
   "source": [
    "a = welcome.delay()"
   ]
  },
  {
   "cell_type": "code",
   "execution_count": null,
   "id": "50722d15",
   "metadata": {},
   "outputs": [],
   "source": [
    "a.status\n"
   ]
  },
  {
   "cell_type": "code",
   "execution_count": null,
   "id": "8da9a797",
   "metadata": {},
   "outputs": [],
   "source": [
    " welcome.delay()"
   ]
  },
  {
   "cell_type": "code",
   "execution_count": 2,
   "id": "3c3ec181",
   "metadata": {},
   "outputs": [],
   "source": [
    "from celery.result import AsyncResult"
   ]
  },
  {
   "cell_type": "code",
   "execution_count": 5,
   "id": "4ad17cda",
   "metadata": {},
   "outputs": [],
   "source": [
    "a = AsyncResult(\"0acb6728-9792-4b9b-a6ea-5532a55eb146\")"
   ]
  },
  {
   "cell_type": "code",
   "execution_count": 6,
   "id": "836252a3",
   "metadata": {},
   "outputs": [
    {
     "data": {
      "text/plain": [
       "'PENDING'"
      ]
     },
     "execution_count": 6,
     "metadata": {},
     "output_type": "execute_result"
    }
   ],
   "source": [
    "a.status"
   ]
  },
  {
   "cell_type": "code",
   "execution_count": null,
   "id": "c57e5e38",
   "metadata": {},
   "outputs": [],
   "source": [
    "r.get('celery-task-meta-501ce80e-a196-4953-bdf3-147d25148d1a')"
   ]
  },
  {
   "cell_type": "code",
   "execution_count": null,
   "id": "d9c476d9",
   "metadata": {},
   "outputs": [],
   "source": [
    "[i.decode() for i in r.scan_iter()]"
   ]
  },
  {
   "cell_type": "code",
   "execution_count": null,
   "id": "56b1f9cc",
   "metadata": {},
   "outputs": [],
   "source": []
  }
 ],
 "metadata": {
  "kernelspec": {
   "display_name": "Python 3 (ipykernel)",
   "language": "python",
   "name": "python3"
  },
  "language_info": {
   "codemirror_mode": {
    "name": "ipython",
    "version": 3
   },
   "file_extension": ".py",
   "mimetype": "text/x-python",
   "name": "python",
   "nbconvert_exporter": "python",
   "pygments_lexer": "ipython3",
   "version": "3.10.11"
  }
 },
 "nbformat": 4,
 "nbformat_minor": 5
}
